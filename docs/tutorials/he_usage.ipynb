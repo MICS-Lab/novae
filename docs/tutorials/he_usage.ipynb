{
 "cells": [
  {
   "cell_type": "markdown",
   "id": "f4d8147a",
   "metadata": {},
   "source": [
    "# Adding H&E information\n",
    "\n",
    "In case you have an H&E slide aligned with your Spatial Transcriptomics data, you can train a new `Novae` model in multimodal mode.\n"
   ]
  },
  {
   "cell_type": "code",
   "execution_count": null,
   "id": "0a6d8e37",
   "metadata": {},
   "outputs": [],
   "source": [
    "import novae"
   ]
  }
 ],
 "metadata": {
  "language_info": {
   "name": "python"
  }
 },
 "nbformat": 4,
 "nbformat_minor": 5
}
